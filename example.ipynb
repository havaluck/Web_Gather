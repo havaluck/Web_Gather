{
 "cells": [
  {
   "cell_type": "markdown",
   "metadata": {},
   "source": [
    "**Import Module and Access Tokens**"
   ]
  },
  {
   "cell_type": "code",
   "execution_count": 1,
   "metadata": {},
   "outputs": [],
   "source": [
    "from web_gather import TweetSearch, YelpSearch, RSSFeed # Import the module and classes\n",
    "from keys import Twitter, Yelp # Import Keys from file or module of your choosing, this is the example version\n"
   ]
  },
  {
   "cell_type": "markdown",
   "metadata": {},
   "source": [
    "**Using TweetSearch**"
   ]
  },
  {
   "cell_type": "code",
   "execution_count": 6,
   "metadata": {},
   "outputs": [
    {
     "data": {
      "text/plain": [
       "\"@mynameisjetta @musicandfashion That’s frowned upon in gym culture ! 😤. You gotta FEEEL the weight . Be one with the weight … you gotta BE the weight@stupid_mma @EricSamaNYC Lloyd Irvin participated in a gang rape, but got away w it w the excuse that he couldn't get hard to actually rape her, but still you know... participated also a bunch of his students have a history of inappropriate sexual behavior and shit, seems to be a gym culture thingRT @drsupatratovar: What if we stopped listening to gym culture yapping away, telling us to suffer in pain for hours on end? What if we cho…What if we stopped listening to gym culture yapping away, telling us to suffer in pain for hours on end? What if we chose exercise because it felt good, no matter how many calories it burns? Wouldn’t that be fun?\\n #antigymculture #tuesdaymotivations #exercise #drsupatratovar https://t.co/WuPm6QAbIT@HongsterHong @Pat_brownie @Post_Market The further you move into countries with more normal lifestyles - less unhealthy food and less gym culture. I doubt Peloton sells well in Italy or Spain or most of Asia@joBeeGeorgeous We will not\\nCry\\nMoreover it is increasing:)\\nI am sure you don't use to see Brahmins calling themselves manuwadi proudly before but now their are many:)\\nGym culture among Brahmins are increasing already@stanz107 'True Ladakhi' also lives through-out the year, in Housing Colony, Skalzang Ling, Ibex Colony, Leh city, and many congested urban spaces where their daily work culture is either desk-jobs or something non-manual based. \\n\\nTherefore Gym culture is the need of the hour.I have officially Indoctrinated my youngest brother into gym culture, Its so fun to have a little mini-me in the gym with meI'd love to get into going to the gym but gym culture is super fucking annoying and boring. Or at least it definitely is online like these people are so dryRT @DailyToreador: OPINION: Toxic gym culture creates space that hyper focuses on insecurities, creates judgment and excludes others.\\n\\nhttp…\""
      ]
     },
     "execution_count": 6,
     "metadata": {},
     "output_type": "execute_result"
    }
   ],
   "source": [
    "ts = TweetSearch(bearer_token=Twitter.BEARER_TOKEN) # Initialize the object, only the Twitter API Bearer Token is required via argument 'bearer_token'\n",
    "ts.query(query='\"gym culture\" gym') # Method to search recent tweets using Twitter API's Query syntax \n",
    "# Returns a joined single string of all tweets from the search\n"
   ]
  },
  {
   "cell_type": "markdown",
   "metadata": {},
   "source": [
    "**Using YelpSearch**"
   ]
  },
  {
   "cell_type": "code",
   "execution_count": 2,
   "metadata": {},
   "outputs": [
    {
     "data": {
      "text/plain": [
       "[('Summit Strong', 'summit-strong-denver', 'WcY5ZGGTI6pLm123wQbbzw'),\n",
       " ('Denver Athletic Club',\n",
       "  'denver-athletic-club-denver',\n",
       "  '5EfHgS2SZx7SUynK5WjuXA')]"
      ]
     },
     "execution_count": 2,
     "metadata": {},
     "output_type": "execute_result"
    }
   ],
   "source": [
    "ys = YelpSearch(access_token=Yelp.ACCESS_TOKEN) # Initialize the object, only the Yelp API access token (API Key) is required via argument 'access_token'\n",
    "ys.business_search(term='Gym',location='Denver, Colorado', limit=2) # Method to search for businesses based on keyword (required) and location (required), with result limit (default is 20, max is 50)\n",
    "# Returns a list of three-value tuples (Business Name, Business Alias, Business ID)\n"
   ]
  },
  {
   "cell_type": "code",
   "execution_count": 4,
   "metadata": {},
   "outputs": [
    {
     "data": {
      "text/plain": [
       "'Wow! This is the best gym I have ever been to. I was a member of lifetime athletics in Maryland and I felt that was the best gym but when I visited DAC I...The fiancé and I had the pleasure of attending our friends nuptials at Denver Athletic Club and I must say I was impressed!\\n\\n++ The space was so elegant!...The best place to work and workout in Denver. Covers an entire city clock, open 24/7/365, and has everything you can imagine to do activity-wise including a...'"
      ]
     },
     "execution_count": 4,
     "metadata": {},
     "output_type": "execute_result"
    }
   ],
   "source": [
    "ys.get_business_reviews(id='5EfHgS2SZx7SUynK5WjuXA') # Method to search for business reviews by specific business ID (required), via argument 'id'\n",
    "# Returns a joined string of three reviews for the business returned by the search"
   ]
  },
  {
   "cell_type": "code",
   "execution_count": 5,
   "metadata": {},
   "outputs": [
    {
     "data": {
      "text/plain": [
       "'Awesome gym, was in town for vacation and dropped in a few times.\\n\\nGreat equipment, good condition, super clean.\\n\\nAlso, great gym vibeI am giving this business a one star because I did not have the option to give it a zero. The only reason Summit Strong has a 4.5 rating is because the...I thought all the time I had spent on the couch in the past 12 months of COVID would be the end of my physical appearance, and confidence. \\n\\nI started...Wow! This is the best gym I have ever been to. I was a member of lifetime athletics in Maryland and I felt that was the best gym but when I visited DAC I...The fiancé and I had the pleasure of attending our friends nuptials at Denver Athletic Club and I must say I was impressed!\\n\\n++ The space was so elegant!...The best place to work and workout in Denver. Covers an entire city clock, open 24/7/365, and has everything you can imagine to do activity-wise including a...'"
      ]
     },
     "execution_count": 5,
     "metadata": {},
     "output_type": "execute_result"
    }
   ],
   "source": [
    "yelp.get_all_businesses_reviews() # Method to search for all businesses that the business_search() method retrieved (no arguments)\n",
    "# Returns a joined string of all three reviews for each business retrieved by business_search()"
   ]
  },
  {
   "cell_type": "code",
   "execution_count": 8,
   "metadata": {},
   "outputs": [
    {
     "data": {
      "text/plain": [
       "['guid',\n",
       " 'category',\n",
       " 'copyright',\n",
       " 'lastBuildDate',\n",
       " 'content',\n",
       " 'description',\n",
       " 'title',\n",
       " 'language',\n",
       " 'image',\n",
       " 'creator',\n",
       " 'rss',\n",
       " 'item',\n",
       " 'link',\n",
       " 'pubDate',\n",
       " 'channel',\n",
       " 'credit',\n",
       " 'url']"
      ]
     },
     "execution_count": 8,
     "metadata": {},
     "output_type": "execute_result"
    }
   ],
   "source": [
    "rss_nyt = RSSFeed(endpoint_url='https://rss.nytimes.com/services/xml/rss/nyt/HomePage.xml') # Initialize the object, only the RSS Feed URL is required via argument 'endpoint_url'\n",
    "rss_nyt.get_elements # Attribute containing all the unique XML elements from the RSS feed URL"
   ]
  },
  {
   "cell_type": "code",
   "execution_count": 9,
   "metadata": {},
   "outputs": [
    {
     "data": {
      "text/plain": [
       "\"But a Trump lawyer has signaled an intent to appeal the ruling, which raises novel issues about an ex-president’s executive privilege powers.Former President Donald J. Trump can assert executive privilege, a judge ruled, but President Biden is not obliged to honor that assertion.What went on at a five-star hotel near the White House the day before the riot could be a window into how a Trump-directed plot to upend the election ended in violence at the Capitol.Stephen Miller, a senior adviser to former President Donald J. Trump, was subpoenaed by a House committee investigating the Capitol attack.Mr. Trump’s son-in-law and his chief of staff are among those accused of violating a law designed to prevent federal employees from abusing their power.Jared Kushner, the son-in-law of President Donald J. Trump, was accused of violating the Hatch Act.Moderna’s patent application names several employees as the sole inventors of a crucial component of its coronavirus vaccine, excluding three government scientists.Dr. Barney Graham, left, and his colleague at the time, Dr. Kizzmekia Corbett, right, explaining the role of spike proteins to President Biden at the National Institutes of Health in Bethesda, Md., in February.In a turnaround, the agency is expected to grant the request before the winter holiday season, giving access to all 181 million fully vaccinated people.A 78-year-old man received a booster shot in the Bronx in September. The Biden administration has been eager to offer extra shots widely since August.The Food and Drug Administration is considered likely to grant the request, perhaps before Thanksgiving. Here’s the latest on the pandemic.Rodgers, the Green Bay Packers quarterback who is not vaccinated and has voiced unfounded claims about Covid-19 vaccines, was penalized for not wearing a mask in some places.The company, once the epitome of corporate ambition, plans to split itself into three separate companies.The G.E. site in Schenectady, N.Y.\\xa0Industrial conglomerates have fallen out of favor with investors. The 5-1 decision is a setback for those who are fighting to hold big drug makers accountable for the opioid epidemic.Judge Thad Balkman, who presided over the Johnson & Johnson trial, was overruled by the Oklahoma Supreme Court on Tuesday.Hosted by Andrew Ross Sorkin, Day 1 saw top newsmakers in business, policy and culture discuss the future of technology, life after the pandemic and more.More than 140 Afghan Air Force pilots and crew members were evacuated to the United Arab Emirates three months after flying into Tajikistan to escape the Taliban.Afghan Air Force ground crew members servicing a military plane in Kabul in 2018.The Pakistani government said it would offer amnesty for insurgents who are willing to disarm.A military outpost in Khyber District, Pakistan, in August.Fights over how we tell our national story go back more than a century — and have a great deal to teach us about our current divisions.Scientists learned lessons from the 2018 outburst on the island of Hawaii that are changing how responders prepare for eruptions in other places.Sunrise over the lower East Rift Zone of the 2018 Kilauea eruption.The magazine’s Ethicist columnist on why offering regular help creates sometimes unwelcome obligations of its own — and more.From rap stardom to movie stardom, “Will” traces its hero’s quest out of West Philadelphia.Why do states with Democratic majorities fail to live up to their values?Americans won’t support a protest movement that divides, undermines, and censors.\\xa0The country’s education debate isn’t made up.Much of the world wouldn't make sacrifices to fight Covid, so why think it will to stop climate change?What do people mean when they talk about “the economy”?Shelves in a Houston grocery store in August.The death penalty is wrong, but we can still uphold the dignity of the condemned.As the Rev. Dr. Martin Luther King Jr. wrote, “an edifice which produces beggars needs restructuring.”Kiese Laymon and Tressie McMillan Cottom on vulnerability, revision and love.Plans for new power generation won’t meet global climate goals.We need\\xa0effective, non-militarized policing with accountability for bad officers. Getting that\\xa0takes hard work, not just rhetoric.Readers respond to an editorial that urged the party to be more realistic and moderate. Also: Aaron Rodgers; the anguish of war.The U.S. Capitol building.The new bipartisan infrastructure law is a first step, but only a broader course correction to the center will give Democrats a fighting chance.Strict Covid measures are creating fertile ground for the privatization movement.Ford’s plans for multi-billion dollar manufacturing sites for electric vehicles has Tennessee and Kentucky singing a different tune on cleaner energy.The Memphis Regional\\xa0Megasite water tower on Ford's proposed new Blue Oval City campus.On Nov. 30, Times subscribers will be the first to find out what made this year’s 10 Best Books list from editors at the Book Review.The tragedy at Travis Scott’s Astroworld turned attention to how rap festival performances are increasingly oriented toward the rowdy.The former anchor of “NBC Nightly News” rehabilitated his tarnished image as the host of a popular 11 p.m. show on MSNBC.Brian Williams spent 28 years at NBC News, including more than a decade as the anchor of the main network newscast.A Texas death row inmate, John H. Ramirez, asked the justices to let spiritual advisers pray with and lay hands on prisoners as they await execution.John H. Ramirez was sentenced to death for the 2004 murder of a convenience store worker.The company, backed by Amazon and Ford, has delivered only 156 trucks so far, but its market worth approaches that of Ford.Rivian and many other automakers are betting that consumers are prepared to rapidly shift to electric vehicles over the next decade.Daphna and Alexander Cardinale, the plaintiffs in a lawsuit against a Los Angeles-area fertility clinic, say they endured a painful custody exchange after DNA testing.Daphna and Alexander Cardinale have filed a lawsuit after spending months raising a child who wasn’t theirs because of what they said was a mix-up at a fertility clinic in California.Ford, G.M. and Mercedes agreed to work toward selling only zero-emissions vehicles by 2040. But Toyota, Volkswagen and Nissan-Renault did not join the pledge.An all-electric Ford F-150 Lightning truck prototype in Dearborn, Mich., in September.The blaze, in a hospital in central India on Monday night, was the latest in a series of deadly fires at health care centers in recent months.A man carried a child out of the Kamla Nehru Hospital in Bhopal, India, on Monday after a deadly fire engulfed the newborn care unit.Its report found that the government’s attacks against the group of Muslims in Xinjiang had escalated and most likely included “forced sterilization, sexual violence, enslavement, torture, and forcible transfer.”Members of a Uyghur family prayed at the grave of a loved one at a cemetery in Xinjiang in 2016.Ms. Yousafzai, a Pakistani activist and the youngest-ever recipient of a Nobel Peace Prize, married her partner at a small ceremony in Birmingham, England, she said on Twitter.Malala Yousafzai married Asser Malik, a manager for the Pakistan Cricket Board, at a small ceremony in Birmingham, England.\\xa0He appeared alongside Frank Sinatra and Gene Kelly when he was not yet 10. He later had signature roles in movies like “Married to the Mob” and “Blue Velvet.”Jones’s book “Powers and Thrones” is a comprehensive history of the Middle Ages that links the medieval era’s genuine achievements to modern times.Pope Leo III crowns Charlemagne emperor, A.D. 800.In the 19th century, the use of grandiloquent, fanciful words was all the rage, which proves that overcomplicating things has always been funny. And is it a uniquely American phenomenon? Some linguists believe so.Oxford University undergraduates on a callithumpian, late-night drinking escapade in 1824. The original artwork was drawn and engraved by Robert Cruikshank for “The English Spy.”Modern Love in miniature, featuring reader-submitted stories of no more than 100 words.Movies upon movies await, and you don't even have to drill down to find them.When candles burn, they release various vapors and particles into the air, but research suggests that using them is safe.Drink more fluids, consume less sodium and eat a diet that includes calcium-rich foods. Physicians use a number of different factors to assess your risk of having a heart attack or stroke.Differences in the way your body metabolizes drugs might render you prone to side effects. A common type of dizziness can be treated with a simple head maneuver.\""
      ]
     },
     "execution_count": 9,
     "metadata": {},
     "output_type": "execute_result"
    }
   ],
   "source": [
    "rss_nyt.join_elements(tag = 'description') # Method to retrieve the text from all of the selected elements, takes one argument 'tag' (required) for the desired element tag\n",
    "# Returns a joined list of the text from each of the elements with the given tag"
   ]
  }
 ],
 "metadata": {
  "interpreter": {
   "hash": "2d34d15675712463d6a7d4516b3942385f074acd1f8c2436213f42f78924daab"
  },
  "kernelspec": {
   "display_name": "Python 3.9.7 64-bit",
   "name": "python3"
  },
  "language_info": {
   "codemirror_mode": {
    "name": "ipython",
    "version": 3
   },
   "file_extension": ".py",
   "mimetype": "text/x-python",
   "name": "python",
   "nbconvert_exporter": "python",
   "pygments_lexer": "ipython3",
   "version": "3.9.7"
  },
  "orig_nbformat": 4
 },
 "nbformat": 4,
 "nbformat_minor": 2
}
